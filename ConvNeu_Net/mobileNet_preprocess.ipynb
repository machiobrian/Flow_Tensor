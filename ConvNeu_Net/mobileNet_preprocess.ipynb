{
 "cells": [
  {
   "cell_type": "code",
   "execution_count": 5,
   "metadata": {},
   "outputs": [],
   "source": [
    "import numpy as np\n",
    "import tensorflow as tf\n",
    "\n",
    "from keras.layers import Dense, Activation\n",
    "from keras.models import Model\n",
    "from keras.applications import imagenet_utils\n",
    "from keras.optimizers import Adam\n",
    "from keras.metrics import categorical_crossentropy\n",
    "from keras.preprocessing import image\n",
    "from keras.preprocessing.image import ImageDataGenerator\n",
    "\n",
    "from sklearn.metrics import confusion_matrix\n",
    "\n",
    "import os\n",
    "import itertools\n",
    "import shutil\n",
    "import random\n",
    "import matplotlib.pyplot as plt"
   ]
  },
  {
   "cell_type": "code",
   "execution_count": 7,
   "metadata": {},
   "outputs": [],
   "source": [
    "#organize the data from the folder into train, test and validation\n",
    "\n",
    "#1. change directory to the sign language data set\n",
    "os.chdir('./Sign-Language-Digits-Dataset/')\n",
    "#2. check to ensure the data we are about to setup is not already on disk\n",
    "if os.path.isdir('train/0/') is False:\n",
    "    os.mkdir('train')\n",
    "    os.mkdir('test')\n",
    "    os.mkdir('valid')\n",
    "\n",
    "    #iterate over all the direcories (0-9) in the sign lang data set\n",
    "    for i in range(0,10):\n",
    "        shutil.move(f'{i}','train') #moves each of the 0-9 class dirs into our train dir\n",
    "         #make new class dir inside valid, with whatever place we are at in the loop 0-9 \n",
    "         #NoTE: the class directories created are empty\n",
    "        os.mkdir(f'valid/{i}')\n",
    "        os.mkdir(f'test/{i}')\n",
    "\n",
    "        #sample 30 random samples from the train/i class dir\n",
    "        valid_samples = random.sample(os.listdir(f'train/{i}'),30)\n",
    "        for j in valid_samples:\n",
    "            #for each of the valid_samples picked randomly, move them from train \n",
    "            # to valid in class i - recursively\n",
    "            shutil.move(f'train/{i}/{j}', f'valid/{i}') # equivalent to unix mv command\n",
    "\n",
    "        #sample 10 random samples from the train/i class dir\n",
    "        test_samples = random.sample(os.listdir(f'train/{i}'),10)\n",
    "        for k in test_samples:\n",
    "            shutil.move(f'train/{i}/{k}', f'test/{i}')\n",
    "os.chdir('../..')\n"
   ]
  },
  {
   "cell_type": "code",
   "execution_count": 8,
   "metadata": {},
   "outputs": [],
   "source": [
    "#pre-process the data\n",
    "\n",
    "#define where the train, valid, test dirs are located on disk\n",
    "train_path = './ConvNeu_Net/Sign-Language-Digits-Dataset/train/'\n",
    "test_path = './ConvNeu_Net/Sign-Language-Digits-Dataset/test/'\n",
    "valid_path = './ConvNeu_Net/Sign-Language-Digits-Dataset/valid/'"
   ]
  },
  {
   "cell_type": "code",
   "execution_count": 9,
   "metadata": {},
   "outputs": [
    {
     "name": "stdout",
     "output_type": "stream",
     "text": [
      "Found 1662 images belonging to 10 classes.\n",
      "Found 100 images belonging to 10 classes.\n",
      "Found 300 images belonging to 10 classes.\n"
     ]
    }
   ],
   "source": [
    "#setup the directory iterators -> ImageDataGenerator.flow_from_directory()\n",
    "\n",
    "train_batches = ImageDataGenerator(preprocessing_function=tf.keras.applications.mobilenet.preprocess_input).flow_from_directory(\n",
    "    train_path,target_size=(224,224), batch_size=10\n",
    ")\n",
    "#pre-process input scales image data from -1 to 1 not 0 to 255\n",
    "test_batches = ImageDataGenerator(preprocessing_function=tf.keras.applications.mobilenet.preprocess_input).flow_from_directory(\n",
    "    directory=test_path, target_size=(224,224), batch_size=10\n",
    ")\n",
    "valid_batches = ImageDataGenerator(preprocessing_function=tf.keras.applications.mobilenet.preprocess_input).flow_from_directory(\n",
    "    valid_path, (224,224), batch_size=10, shuffle=False\n",
    ")\n"
   ]
  }
 ],
 "metadata": {
  "kernelspec": {
   "display_name": "Python 3.10.4 ('tf_venv')",
   "language": "python",
   "name": "python3"
  },
  "language_info": {
   "codemirror_mode": {
    "name": "ipython",
    "version": 3
   },
   "file_extension": ".py",
   "mimetype": "text/x-python",
   "name": "python",
   "nbconvert_exporter": "python",
   "pygments_lexer": "ipython3",
   "version": "3.10.4"
  },
  "orig_nbformat": 4,
  "vscode": {
   "interpreter": {
    "hash": "a4c048af761e69bbb6a0f27abfbe825475f7e3a41835f83f62624879eb5001e8"
   }
  }
 },
 "nbformat": 4,
 "nbformat_minor": 2
}
