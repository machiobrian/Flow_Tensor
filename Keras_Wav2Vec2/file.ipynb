{
 "cells": [
  {
   "cell_type": "code",
   "execution_count": 8,
   "metadata": {},
   "outputs": [],
   "source": [
    "import random\n",
    "import logging # allows writing status messages to a file or output streams\n",
    "\n",
    "import numpy as np \n",
    "import tensorflow as tf \n",
    "from tensorflow import keras\n",
    "from tensorflow.keras import layers\n",
    "\n",
    "# Only log error messages\n",
    "tf.get_logger().setLevel(logging.ERROR)\n",
    "# set random seed\n",
    "tf.keras.utils.set_random_seed(42)\n",
    "\n",
    "\n",
    "# tf.keras.utils.set_random_seed?"
   ]
  },
  {
   "cell_type": "code",
   "execution_count": null,
   "metadata": {},
   "outputs": [],
   "source": [
    "# Variable definition\n",
    "MAX_DURATION = 1 # duration of the input audio file we feed into wav2vec\n",
    "SAMPLING_RATE = 16000 # no. of samples of audio recorded every second\n",
    "BATCH_SIZE = 32 # batch size for training and evaluating the model\n",
    "NUM_CLASSES = 10 # classes our dataset will have\n",
    "HIDDEN_DIM = 768 # Dimension of our model output (768 is for wav2vec2-base)\n"
   ]
  }
 ],
 "metadata": {
  "kernelspec": {
   "display_name": "Python 3.10.8 ('TensorFlow')",
   "language": "python",
   "name": "python3"
  },
  "language_info": {
   "codemirror_mode": {
    "name": "ipython",
    "version": 3
   },
   "file_extension": ".py",
   "mimetype": "text/x-python",
   "name": "python",
   "nbconvert_exporter": "python",
   "pygments_lexer": "ipython3",
   "version": "3.10.8"
  },
  "orig_nbformat": 4,
  "vscode": {
   "interpreter": {
    "hash": "45c48fb264bba0529b917885aa2fdf54bfc5ac58ac8ea30a57d1df6ad7c47fba"
   }
  }
 },
 "nbformat": 4,
 "nbformat_minor": 2
}
